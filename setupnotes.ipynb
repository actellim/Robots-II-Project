{
 "cells": [
  {
   "attachments": {},
   "cell_type": "markdown",
   "metadata": {},
   "source": [
    "- We will need to teach or define our tool, tWeldTip\n",
    "- We must define the points:\n",
    "    - pHome\n",
    "    - pWeldForward\n",
    "    - pWeldBackward\n",
    "    - pClean\n",
    "- Teach the weld object, WeldPart\n",
    "- y and z offsets in TipClean and WeldLoop must be adjusted based on how tWeldTip and WeldPart are oriented\n",
    "- weld while loop = 3\n",
    "- the group input while loop may need to be re-written with proper syntax"
   ]
  }
 ],
 "metadata": {
  "language_info": {
   "name": "python"
  },
  "orig_nbformat": 4
 },
 "nbformat": 4,
 "nbformat_minor": 2
}
